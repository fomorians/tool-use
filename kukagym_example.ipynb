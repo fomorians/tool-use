{
 "cells": [
  {
   "cell_type": "code",
   "execution_count": 6,
   "metadata": {},
   "outputs": [],
   "source": [
    "from pybullet_envs.bullet.kukaGymEnv import KukaGymEnv\n",
    "import time"
   ]
  },
  {
   "cell_type": "code",
   "execution_count": 7,
   "metadata": {},
   "outputs": [],
   "source": [
    "def main():\n",
    "\n",
    "    environment = KukaGymEnv(renders=True,isDiscrete=False, maxSteps = 10000000)\n",
    "\n",
    "\n",
    "    motorsIds=[]\n",
    "    #motorsIds.append(environment._p.addUserDebugParameter(\"posX\",0.4,0.75,0.537))\n",
    "    #motorsIds.append(environment._p.addUserDebugParameter(\"posY\",-.22,.3,0.0))\n",
    "    #motorsIds.append(environment._p.addUserDebugParameter(\"posZ\",0.1,1,0.2))\n",
    "    #motorsIds.append(environment._p.addUserDebugParameter(\"yaw\",-3.14,3.14,0))\n",
    "    #motorsIds.append(environment._p.addUserDebugParameter(\"fingerAngle\",0,0.3,.3))\n",
    "\n",
    "    dv = 0.01 \n",
    "    motorsIds.append(environment._p.addUserDebugParameter(\"posX\",-dv,dv,0))\n",
    "    motorsIds.append(environment._p.addUserDebugParameter(\"posY\",-dv,dv,0))\n",
    "    motorsIds.append(environment._p.addUserDebugParameter(\"posZ\",-dv,dv,0))\n",
    "    motorsIds.append(environment._p.addUserDebugParameter(\"yaw\",-dv,dv,0))\n",
    "    motorsIds.append(environment._p.addUserDebugParameter(\"fingerAngle\",0,0.3,.3))\n",
    "\n",
    "    done = False\n",
    "    while (not done):\n",
    "\n",
    "      action=[]\n",
    "      for motorId in motorsIds:\n",
    "        action.append(environment._p.readUserDebugParameter(motorId))\n",
    "\n",
    "      state, reward, done, info = environment.step2(action)\n",
    "      obs = environment.getExtendedObservation()\n"
   ]
  },
  {
   "cell_type": "code",
   "execution_count": null,
   "metadata": {},
   "outputs": [],
   "source": [
    "if __name__==\"__main__\":\n",
    "    main()"
   ]
  },
  {
   "cell_type": "code",
   "execution_count": null,
   "metadata": {},
   "outputs": [],
   "source": []
  }
 ],
 "metadata": {
  "kernelspec": {
   "display_name": "Python 3",
   "language": "python",
   "name": "python3"
  },
  "language_info": {
   "codemirror_mode": {
    "name": "ipython",
    "version": 3
   },
   "file_extension": ".py",
   "mimetype": "text/x-python",
   "name": "python",
   "nbconvert_exporter": "python",
   "pygments_lexer": "ipython3",
   "version": "3.6.5"
  }
 },
 "nbformat": 4,
 "nbformat_minor": 2
}
